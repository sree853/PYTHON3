{
  "nbformat": 4,
  "nbformat_minor": 0,
  "metadata": {
    "colab": {
      "provenance": [],
      "authorship_tag": "ABX9TyNoI4S0n/wWf4W7/nJOFR2s",
      "include_colab_link": true
    },
    "kernelspec": {
      "name": "python3",
      "display_name": "Python 3"
    },
    "language_info": {
      "name": "python"
    }
  },
  "cells": [
    {
      "cell_type": "markdown",
      "metadata": {
        "id": "view-in-github",
        "colab_type": "text"
      },
      "source": [
        "<a href=\"https://colab.research.google.com/github/sree853/PYTHON3/blob/main/problems.ipynb\" target=\"_parent\"><img src=\"https://colab.research.google.com/assets/colab-badge.svg\" alt=\"Open In Colab\"/></a>"
      ]
    },
    {
      "cell_type": "markdown",
      "source": [
        "#1. Write a python program to check if a string is a palindrome."
      ],
      "metadata": {
        "id": "pIUx-oDlHCmX"
      }
    },
    {
      "cell_type": "code",
      "execution_count": 1,
      "metadata": {
        "colab": {
          "base_uri": "https://localhost:8080/"
        },
        "id": "sPhPgdgTG_E9",
        "outputId": "758f033a-efc9-453c-ac6a-93c19c04973f"
      },
      "outputs": [
        {
          "output_type": "stream",
          "name": "stdout",
          "text": [
            "{word} is a palindrome\n"
          ]
        }
      ],
      "source": [
        "def is_palindrome(string):\n",
        "  reversed_string = string[::-1]\n",
        "  return string == reversed_string\n",
        "\n",
        "# Test the function\n",
        "word = \"madam\"\n",
        "if is_palindrome(word):\n",
        "  print(\"{word} is a palindrome\")\n",
        "else:\n",
        "  print(\"{word} is not a palindrome\")\n",
        "\n"
      ]
    },
    {
      "cell_type": "markdown",
      "source": [
        "#2.Write a python program to find the factorial of a number."
      ],
      "metadata": {
        "id": "jqtjI8qKKIt4"
      }
    },
    {
      "cell_type": "code",
      "source": [
        "def factorial(n):\n",
        "  if n == 0:\n",
        "    return 1\n",
        "  else:\n",
        "    return n*factorial(n-1)"
      ],
      "metadata": {
        "id": "QjeP4TcPKj2d"
      },
      "execution_count": 2,
      "outputs": []
    },
    {
      "cell_type": "code",
      "source": [
        "n=5\n",
        "result=factorial(n)\n",
        "print(\"The factorial of number is:\",result)"
      ],
      "metadata": {
        "colab": {
          "base_uri": "https://localhost:8080/"
        },
        "id": "0Vx4X0LhLJEY",
        "outputId": "02c87704-82eb-4bfb-99ec-1eb962979f73"
      },
      "execution_count": 4,
      "outputs": [
        {
          "output_type": "stream",
          "name": "stdout",
          "text": [
            "The factorial of number is: 120\n"
          ]
        }
      ]
    },
    {
      "cell_type": "code",
      "source": [
        "factorial(6)"
      ],
      "metadata": {
        "colab": {
          "base_uri": "https://localhost:8080/"
        },
        "id": "rAwiErLpMGq1",
        "outputId": "d254443d-468d-4681-a985-72a308d57bda"
      },
      "execution_count": 8,
      "outputs": [
        {
          "output_type": "execute_result",
          "data": {
            "text/plain": [
              "720"
            ]
          },
          "metadata": {},
          "execution_count": 8
        }
      ]
    },
    {
      "cell_type": "markdown",
      "source": [
        "#3. Write a python program to find the largest element in a list.\n"
      ],
      "metadata": {
        "id": "z3iJ7Y7-Mg_D"
      }
    },
    {
      "cell_type": "code",
      "source": [
        "def find_largest(numbers):\n",
        "  largest = numbers[0]\n",
        "  for num in numbers:\n",
        "    largest = num\n",
        "  return largest\n",
        "\n",
        "nums = [10,5,8,20,3]\n",
        "largest_num =  find_largest(nums)\n",
        "print(\"The largest number is\",largest_num)"
      ],
      "metadata": {
        "colab": {
          "base_uri": "https://localhost:8080/"
        },
        "id": "6KQQhAvdOGfj",
        "outputId": "a395cd5c-52d7-48fd-a5b4-ec82b5cac9d7"
      },
      "execution_count": 9,
      "outputs": [
        {
          "output_type": "stream",
          "name": "stdout",
          "text": [
            "The largest number is 3\n"
          ]
        }
      ]
    },
    {
      "cell_type": "markdown",
      "source": [
        "#4.Write a python program to reverse a string."
      ],
      "metadata": {
        "id": "fZFi4uOlQCkh"
      }
    },
    {
      "cell_type": "code",
      "source": [
        "def reverse_string(string):\n",
        "  return string[::-1]\n",
        "\n",
        "text=\"Hello, world!\"\n",
        "reversed_text = reverse_string(text)\n",
        "print(reversed_text)"
      ],
      "metadata": {
        "colab": {
          "base_uri": "https://localhost:8080/"
        },
        "id": "E9dK82EaQ5d6",
        "outputId": "2a20ae9a-5602-4298-b8bc-41f7530f84e1"
      },
      "execution_count": 10,
      "outputs": [
        {
          "output_type": "stream",
          "name": "stdout",
          "text": [
            "!dlrow ,olleH\n"
          ]
        }
      ]
    },
    {
      "cell_type": "markdown",
      "source": [
        "#5.Write a python program to count the frequency of each element in a list."
      ],
      "metadata": {
        "id": "da9UYd-bSHeU"
      }
    },
    {
      "cell_type": "code",
      "source": [
        "def count_frequency(numbers):\n",
        "  frequency ={}\n",
        "  for num in numbers:\n",
        "    if num in frequency:\n",
        "      frequency[num] +=1\n",
        "    else:\n",
        "      frequency[num] = 1\n",
        "  return frequency\n",
        "\n",
        "nums=[1,2,3,2,1,3,2,4,5,4]\n",
        "frequency_count = count_frequency(nums)\n",
        "print(frequency_count)"
      ],
      "metadata": {
        "colab": {
          "base_uri": "https://localhost:8080/"
        },
        "id": "MZOXh27HSkdM",
        "outputId": "8114cbca-4a40-47a7-df45-2119057ebe0f"
      },
      "execution_count": 11,
      "outputs": [
        {
          "output_type": "stream",
          "name": "stdout",
          "text": [
            "{1: 2, 2: 3, 3: 2, 4: 2, 5: 1}\n"
          ]
        }
      ]
    },
    {
      "cell_type": "markdown",
      "source": [
        "# 6. Write a python program to check if a number is prime."
      ],
      "metadata": {
        "id": "J-uzzrc-Uh42"
      }
    },
    {
      "cell_type": "code",
      "source": [
        "def is_prime(number):\n",
        "  if number < 2:\n",
        "    return False\n",
        "  for i in range(2, int(number**0.5) +1):\n",
        "    if number % i == 0:\n",
        "      return False\n",
        "    return True\n",
        "\n",
        "num=17\n",
        "if is_prime(num):\n",
        "  print(\"is a prime number\")\n"
      ],
      "metadata": {
        "colab": {
          "base_uri": "https://localhost:8080/"
        },
        "id": "AQCGauPzU3E6",
        "outputId": "61a1e3f7-b19d-4b10-9de0-aabf9a92c810"
      },
      "execution_count": 12,
      "outputs": [
        {
          "output_type": "stream",
          "name": "stdout",
          "text": [
            "is a prime number\n"
          ]
        }
      ]
    },
    {
      "cell_type": "markdown",
      "source": [
        "#6.Write a python program to check if a number is prime."
      ],
      "metadata": {
        "id": "6NaFh3B6YVcp"
      }
    },
    {
      "cell_type": "code",
      "source": [
        "def is_prime(number):\n",
        "  if number < 2:\n",
        "    return False\n",
        "  for i in range(2, int(number**0.5)+1):\n",
        "    if number % i ==0:\n",
        "      return False\n",
        "\n",
        "num = 17\n",
        "if is_prime(num):\n",
        "  print(\"is a prime number\")\n",
        "else:\n",
        "  print(\"is not a prime number\")"
      ],
      "metadata": {
        "colab": {
          "base_uri": "https://localhost:8080/"
        },
        "id": "JqrZIXqsYKWo",
        "outputId": "34d46d5c-e666-4557-d8a1-790fb1f17a0e"
      },
      "execution_count": 13,
      "outputs": [
        {
          "output_type": "stream",
          "name": "stdout",
          "text": [
            "is not a prime number\n"
          ]
        }
      ]
    },
    {
      "cell_type": "markdown",
      "source": [
        "#7. Write a python program to find the common elements between two lists."
      ],
      "metadata": {
        "id": "xUiTz8BbZ2Gm"
      }
    },
    {
      "cell_type": "code",
      "source": [
        "def find_common_elements(list1,list2):\n",
        "  common_elements = []\n",
        "  for item in list1:\n",
        "    if item in list2:\n",
        "      common_elements.append(item)\n",
        "  return common_elements\n",
        "\n",
        "list_a = [1,2,3,4,5]\n",
        "list_b = [4,5,6,7,8]\n",
        "common = find_common_elements(list_a, list_b)\n",
        "print(common)"
      ],
      "metadata": {
        "colab": {
          "base_uri": "https://localhost:8080/"
        },
        "id": "XIf0b9d2aLZl",
        "outputId": "b0119461-4428-4757-850d-85b97fa20160"
      },
      "execution_count": 14,
      "outputs": [
        {
          "output_type": "stream",
          "name": "stdout",
          "text": [
            "[4, 5]\n"
          ]
        }
      ]
    },
    {
      "cell_type": "markdown",
      "source": [
        "#8. Write a python program to sort a list of elements using the bubble sort algorithm."
      ],
      "metadata": {
        "id": "nhTeuGQjbfmQ"
      }
    },
    {
      "cell_type": "code",
      "source": [
        "def bubble_sort(elements):\n",
        "  n=len(elements)\n",
        "  for i in range(n-1):\n",
        "    for j in range(n-i-1):\n",
        "      if elements[j]>elements[j+1]:\n",
        "        elements[j],elements[j+1]=elements[j+1],elements[j]\n",
        "nums=[5,2,8,1,9]\n",
        "bubble_sort(nums)\n",
        "print(nums)"
      ],
      "metadata": {
        "colab": {
          "base_uri": "https://localhost:8080/"
        },
        "id": "2PqP-0j_b0cx",
        "outputId": "9c6570ff-4bfc-4102-cdc7-55a629682fcd"
      },
      "execution_count": 22,
      "outputs": [
        {
          "output_type": "stream",
          "name": "stdout",
          "text": [
            "[3, 5, 8, 10, 20]\n"
          ]
        }
      ]
    },
    {
      "cell_type": "markdown",
      "source": [
        "#9. Write a python program to find the second largest number in a list."
      ],
      "metadata": {
        "id": "KTbkDsdGnnmP"
      }
    },
    {
      "cell_type": "code",
      "source": [
        "def find_second_largest(numbers):\n",
        "  largest = float('-inf')\n",
        "  second_largest = float('-inf')\n",
        "  for num in numbers:\n",
        "    if num>largest:\n",
        "      second_largest = largest\n",
        "      largest = num\n",
        "    elif num > second_largest and num != largest:\n",
        "      second_largest = num\n",
        "  return second_largest\n",
        "\n",
        "nums = [10,5,8,20,3]\n",
        "second_largest_num = find_second_largest(nums)\n",
        "print(f\"The second largest number is {second_largest_num}\")\n",
        "\n",
        "\n"
      ],
      "metadata": {
        "colab": {
          "base_uri": "https://localhost:8080/"
        },
        "id": "7ZXlrChUn4mL",
        "outputId": "3e3daa66-5e20-4ebc-91e2-7be7b5051185"
      },
      "execution_count": 26,
      "outputs": [
        {
          "output_type": "stream",
          "name": "stdout",
          "text": [
            "The second largest number is 10\n"
          ]
        }
      ]
    },
    {
      "cell_type": "markdown",
      "source": [
        "#10. Write python program to remove duplicates from a list."
      ],
      "metadata": {
        "id": "GxOX54zxqnDc"
      }
    },
    {
      "cell_type": "code",
      "source": [
        "def remove_duplicates(numbers):\n",
        "  unique_numbers = []\n",
        "  for num in numbers:\n",
        "    if num not in unique_numbers:\n",
        "      unique_numbers.append(num)\n",
        "  return unique_numbers\n",
        "\n",
        "nums=[1,2,3,2,1,3,2,4,5,4]\n",
        "unique_nums = remove_duplicates(nums)\n",
        "print(unique_nums)"
      ],
      "metadata": {
        "colab": {
          "base_uri": "https://localhost:8080/"
        },
        "id": "DEyl6fP6q2lH",
        "outputId": "86f81af1-1875-4190-e51d-c2f255cad5de"
      },
      "execution_count": 27,
      "outputs": [
        {
          "output_type": "stream",
          "name": "stdout",
          "text": [
            "[1, 2, 3, 4, 5]\n"
          ]
        }
      ]
    }
  ]
}