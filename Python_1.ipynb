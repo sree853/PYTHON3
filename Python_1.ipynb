{
  "nbformat": 4,
  "nbformat_minor": 0,
  "metadata": {
    "colab": {
      "provenance": [],
      "authorship_tag": "ABX9TyPf6Q1ewkMx3SwQzPVle7FE",
      "include_colab_link": true
    },
    "kernelspec": {
      "name": "python3",
      "display_name": "Python 3"
    },
    "language_info": {
      "name": "python"
    }
  },
  "cells": [
    {
      "cell_type": "markdown",
      "metadata": {
        "id": "view-in-github",
        "colab_type": "text"
      },
      "source": [
        "<a href=\"https://colab.research.google.com/github/sree853/PYTHON3/blob/main/Python_1.ipynb\" target=\"_parent\"><img src=\"https://colab.research.google.com/assets/colab-badge.svg\" alt=\"Open In Colab\"/></a>"
      ]
    },
    {
      "cell_type": "markdown",
      "source": [
        "Exercise 1: Mailing Address\n",
        "(Solved—9 Lines)\n",
        "Create a program that displays your name and complete mailing address formatted in\n",
        "the manner that you would usually see it on the outside of an envelope. Your program\n",
        "does not need to read any input from the user"
      ],
      "metadata": {
        "id": "aCigc4cRLpvB"
      }
    },
    {
      "cell_type": "code",
      "source": [
        "name=\"sreelakshmi\"\n",
        "flat_no= \"3/4-17\"\n",
        "residency=\"s.p nagar\"\n",
        "city=\"kphb\"\n",
        "state=\"telangana\"\n",
        "print(name,flat_no,residency,city,state,sep=\"\\n\")\n"
      ],
      "metadata": {
        "colab": {
          "base_uri": "https://localhost:8080/"
        },
        "id": "_2X-wBXxIf7c",
        "outputId": "9f54b22d-3b11-4e7c-cd1a-025c0cdbad0d"
      },
      "execution_count": null,
      "outputs": [
        {
          "output_type": "stream",
          "name": "stdout",
          "text": [
            "sreelakshmi\n",
            "3/4-17\n",
            "s.p nagar\n",
            "kphb\n",
            "telangana\n"
          ]
        }
      ]
    },
    {
      "cell_type": "markdown",
      "source": [
        "Exercise 2: Hello\n",
        "(9 Lines)\n",
        "Write a program that asks the user to enter his or her name. The program should\n",
        "respond with a message that says hello to the user, using his or her name."
      ],
      "metadata": {
        "id": "gezI_oVFLgLa"
      }
    },
    {
      "cell_type": "code",
      "source": [
        "x=input(\"greetings : \")\n",
        "y=input(\"my name : \")"
      ],
      "metadata": {
        "colab": {
          "base_uri": "https://localhost:8080/"
        },
        "id": "56d-2kOuMLS-",
        "outputId": "20e2398c-6e21-4656-b082-48fee0d2a7a9"
      },
      "execution_count": 1,
      "outputs": [
        {
          "name": "stdout",
          "output_type": "stream",
          "text": [
            "greetings :  Hello\n",
            "my name :  sreelakshmi\n"
          ]
        }
      ]
    },
    {
      "cell_type": "markdown",
      "source": [
        "Exercise 3: Area of a Room\n",
        "(Solved—13 Lines)\n",
        "Write a program that asks the user to enter the width and length of a room. Once\n",
        "the values have been read, your program should compute and display the area of the\n",
        "room. The length and the width will be entered as floating point numbers. Include\n",
        "units in your prompt and output message; either feet or meters, depending on which\n",
        "unit you are more comfortable working with."
      ],
      "metadata": {
        "id": "W4_QSebwOPNZ"
      }
    },
    {
      "cell_type": "code",
      "source": [
        "l=float(input(\"length\"))\n",
        "w=float(input(\"width\"))\n",
        "area=l*w\n",
        "print(\"area of room is :\",area, \"sft\")\n",
        "\n"
      ],
      "metadata": {
        "colab": {
          "base_uri": "https://localhost:8080/"
        },
        "id": "lRVDnY9rOa-N",
        "outputId": "dbc11fef-8064-4aac-8aa5-6ab76751d8e8"
      },
      "execution_count": null,
      "outputs": [
        {
          "output_type": "stream",
          "name": "stdout",
          "text": [
            "length2.5\n",
            "width3.5\n",
            "area of room is : 8.75 sft\n"
          ]
        }
      ]
    },
    {
      "cell_type": "markdown",
      "source": [
        "Exercise 4: Area of a Field\n",
        "(Solved—15 Lines)\n",
        "Create a program that reads the length and width of a farmer’s field from the user in\n",
        "feet. Display the area of the field in acres.\n",
        "Hint: There are 43,560 square feet in an acre"
      ],
      "metadata": {
        "id": "4mTfXnpyRsOc"
      }
    },
    {
      "cell_type": "code",
      "source": [
        "l=float(input(\"length\"))\n",
        "print(\"l:\",\" sft\")\n",
        "w=float(input(\"width\"))\n",
        "print(\"w:\",\"sft\")\n",
        "area= l*w\n",
        "print(\"area of the field is: \",area,\" acr\")"
      ],
      "metadata": {
        "colab": {
          "base_uri": "https://localhost:8080/"
        },
        "id": "kyl-pkeBSCbe",
        "outputId": "1ffb1968-6049-429a-a4da-ca82c95c4d16"
      },
      "execution_count": null,
      "outputs": [
        {
          "output_type": "stream",
          "name": "stdout",
          "text": [
            "length43560\n",
            "l:  sft\n",
            "width53560\n",
            "w: sft\n",
            "area of the field is:  2333073600.0  acr\n"
          ]
        }
      ]
    },
    {
      "cell_type": "markdown",
      "source": [
        "Exercise 5: Bottle Deposits\n",
        "(Solved—15 Lines)\n",
        "In many jurisdictions a small deposit is added to drink containers to encourage people\n",
        "to recycle them. In one particular jurisdiction, drink containers holding one liter or\n",
        "less have a $0.10 deposit, and drink containers holding more than one liter have a\n",
        "$0.25 deposit.\n",
        "Write a program that reads the number of containers of each size from the user.\n",
        "Your program should continue by computing and displaying the refund that will be\n",
        "received for returning those containers. Format the output so that it includes a dollar\n",
        "sign and always displays exactly two decimal places"
      ],
      "metadata": {
        "id": "9AG-GKs7X7iz"
      }
    },
    {
      "cell_type": "code",
      "source": [
        "x=float(input(\"no of bottles upto 1l\"))\n",
        "y=float(input(\"no of bottles above 1l\"))\n",
        "z=(x*0.10)+(y*0.25)\n",
        "print(\"z is:\",z,\"$\")\n",
        "\n"
      ],
      "metadata": {
        "colab": {
          "base_uri": "https://localhost:8080/"
        },
        "id": "xL37eLRnYAcm",
        "outputId": "d3b1e899-a8c3-431f-e2e9-cf5d00064e67"
      },
      "execution_count": null,
      "outputs": [
        {
          "output_type": "stream",
          "name": "stdout",
          "text": [
            "no of bottles upto 1l   5\n",
            "no of bottles above 1l    12\n",
            "z is: 3.5 $\n"
          ]
        }
      ]
    },
    {
      "cell_type": "markdown",
      "source": [
        "Exercise 6: Tax and Tip\n",
        "(Solved—17 Lines)\n",
        "The program that you create for this exercise will begin by reading the cost of a meal\n",
        "ordered at a restaurant from the user. Then your program will compute the tax and\n",
        "tip for the meal. Use your local tax rate when computing the amount of tax owing.\n",
        "Compute the tip as 18 percent of the meal amount (without the tax). The output from\n",
        "your program should include the tax amount, the tip amount, and the grand total for\n",
        "the meal including both the tax and the tip. Format the output so that all of the values\n",
        "are displayed using two decimal places."
      ],
      "metadata": {
        "id": "zrZwF__qeVrk"
      }
    },
    {
      "cell_type": "code",
      "source": [
        "cost=float(input(\"cost of meal\"))\n",
        "tax=cost*(20/100)\n",
        "tip=cost*(18/100)\n",
        "bill_payable=cost+tax+tip\n",
        "print(cost,tax,tip,bill_payable,sep=\"\\n\")\n",
        "\n"
      ],
      "metadata": {
        "colab": {
          "base_uri": "https://localhost:8080/"
        },
        "id": "uc25bujIegmU",
        "outputId": "8cc740c5-8a6f-4242-9585-08bfe14a9f37"
      },
      "execution_count": null,
      "outputs": [
        {
          "output_type": "stream",
          "name": "stdout",
          "text": [
            "cost of meal56\n",
            "56.0\n",
            "11.200000000000001\n",
            "10.08\n",
            "77.28\n"
          ]
        }
      ]
    },
    {
      "cell_type": "markdown",
      "source": [
        "Exercise 8:Widgets and Gizmos\n",
        "(15 Lines)\n",
        "An online retailer sells two products: widgets and gizmos. Each widget weighs 75\n",
        "grams. Each gizmo weighs 112 grams. Write a program that reads the number of\n",
        "widgets and the number of gizmos in an order from the user. Then your program\n",
        "should compute and display the total weight of the order"
      ],
      "metadata": {
        "id": "zSP95rXMks4f"
      }
    },
    {
      "cell_type": "code",
      "source": [
        "x=int(input(\"enter widgets weight: \"))\n",
        "y=int(input(\"enter gizmos weight: \"))\n",
        "total=x*75+y*112\n",
        "print(\"Total weight is\",total,\"gram.\")\n"
      ],
      "metadata": {
        "colab": {
          "base_uri": "https://localhost:8080/"
        },
        "id": "0W6-gCGkkwdg",
        "outputId": "95046911-4c05-4f6e-bcbd-114984799f98"
      },
      "execution_count": null,
      "outputs": [
        {
          "output_type": "stream",
          "name": "stdout",
          "text": [
            "enter widgets weight: 30\n",
            "enter gizmos weight: 25\n",
            "Total weight is 5050 gram.\n"
          ]
        }
      ]
    }
  ]
}