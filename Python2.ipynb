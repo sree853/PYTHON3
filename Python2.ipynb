{
  "nbformat": 4,
  "nbformat_minor": 0,
  "metadata": {
    "colab": {
      "provenance": [],
      "include_colab_link": true
    },
    "kernelspec": {
      "name": "python3",
      "display_name": "Python 3"
    },
    "language_info": {
      "name": "python"
    }
  },
  "cells": [
    {
      "cell_type": "markdown",
      "metadata": {
        "id": "view-in-github",
        "colab_type": "text"
      },
      "source": [
        "<a href=\"https://colab.research.google.com/github/sree853/PYTHON3/blob/main/Python2.ipynb\" target=\"_parent\"><img src=\"https://colab.research.google.com/assets/colab-badge.svg\" alt=\"Open In Colab\"/></a>"
      ]
    },
    {
      "cell_type": "markdown",
      "source": [
        "1)Create a program that displays your name and complete mailing address formatted in\n",
        "the manner that you would usually see it on the outside of an envelope. Your program\n",
        "does not need to read any input from the user.\n"
      ],
      "metadata": {
        "id": "T4ry_J1t7p-I"
      }
    },
    {
      "cell_type": "code",
      "source": [
        "name = \"Fazal\"\n",
        "age = \"22\"\n",
        "City =\"Mancherial\"\n",
        "H_No =\"21-304/12\"\n",
        "Street = \"Kailasagiri Colony\"\n",
        "Pin_code =\"504208\"\n",
        "print(name,age,City,H_No,Street,Pin_code,sep=\"\\n\")"
      ],
      "metadata": {
        "colab": {
          "base_uri": "https://localhost:8080/"
        },
        "id": "hu55HYqx7yWJ",
        "outputId": "c797269e-4821-4e02-b160-70cb658e4a7a"
      },
      "execution_count": null,
      "outputs": [
        {
          "output_type": "stream",
          "name": "stdout",
          "text": [
            "Fazal\n",
            "22\n",
            "Mancherial\n",
            "21-304/12\n",
            "Kailasagiri Colony\n",
            "504208\n"
          ]
        }
      ]
    },
    {
      "cell_type": "markdown",
      "source": [
        "2)Write a program that asks the user to enter his or her name. The program should\n",
        "respond with a message that says hello to the user, using his or her name.\n"
      ],
      "metadata": {
        "id": "99ouSbOj_HnK"
      }
    },
    {
      "cell_type": "code",
      "source": [
        "name = input(\"Name: \")\n",
        "print(\"Hello {}! \".format(name))"
      ],
      "metadata": {
        "colab": {
          "base_uri": "https://localhost:8080/"
        },
        "id": "1xu3ZxkS_MGv",
        "outputId": "c8a8048d-d821-437b-941a-e742a8cb72e4"
      },
      "execution_count": null,
      "outputs": [
        {
          "output_type": "stream",
          "name": "stdout",
          "text": [
            "Name: Fazal\n",
            "Hello Fazal! \n"
          ]
        }
      ]
    },
    {
      "cell_type": "markdown",
      "source": [
        "3)Write a program that asks the user to enter the width and length of a room. Once\n",
        "the values have been read, your program should compute and display the area of the\n",
        "room. The length and the width will be entered as floating point numbers. Include\n",
        "units in your prompt and output message; either feet or meters, depending on which\n",
        "unit you are more comfortable working with.\n"
      ],
      "metadata": {
        "id": "7FQt6eZQAPUp"
      }
    },
    {
      "cell_type": "code",
      "source": [
        "width = float(input(\"Enter the width of the room in feet: \"))\n",
        "length = float(input(\"Enter the Length of the room in feet: \"))\n",
        "area_of_room = width*length\n",
        "print(\"The area of room : \",area_of_room,\"sfts\")"
      ],
      "metadata": {
        "id": "_V_zYhAIATX4"
      },
      "execution_count": null,
      "outputs": []
    },
    {
      "cell_type": "markdown",
      "source": [
        "4)Create a program that reads the length and width of a farmer’s field from the user in\n",
        "feet. Display the area of the field in acres."
      ],
      "metadata": {
        "id": "J7i90hzlApLw"
      }
    },
    {
      "cell_type": "code",
      "source": [
        "length = int(input(\"Length(in feets): \"))\n",
        "width = int(input(\"Width(in feets): \"))\n",
        "Area = length*width/43560\n",
        "print(\"Area of the field = \", Area,\" Acres\")\n"
      ],
      "metadata": {
        "colab": {
          "base_uri": "https://localhost:8080/"
        },
        "id": "u2kNvHR3Az9x",
        "outputId": "3cdd4094-1789-4db3-d52d-82478edccd9c"
      },
      "execution_count": null,
      "outputs": [
        {
          "output_type": "stream",
          "name": "stdout",
          "text": [
            "Length(in feets): 190\n",
            "Width(in feets): 300\n",
            "Area of the field =  1.3085399449035813  Acres\n"
          ]
        }
      ]
    },
    {
      "cell_type": "markdown",
      "source": [
        "5)In many jurisdictions a small deposit is added to drink containers to encourage people\n",
        "to recycle them. In one particular jurisdiction, drink containers holding one liter or\n",
        "less have a $0.10 deposit, and drink containers holding more than one liter have a\n",
        "$0.25 deposit.\n",
        "Write a program that reads the number of containers of each size from the user.\n",
        "Your program should continue by computing and displaying the refund that will be\n",
        "received for returning those containers. Format the output so that it includes a dollar\n",
        "sign and always displays exactly two decimal places."
      ],
      "metadata": {
        "id": "mhpjfy5xCvaX"
      }
    },
    {
      "cell_type": "code",
      "source": [
        "x = float(input(\"Enter the no.of bottles(less than or equal to 1 ltr): \"))\n",
        "y = float(input(\"Enter the no. of bottles(more than 1 ltr): \"))\n",
        "refund = (x*0.10)+(y*0.25)\n",
        "print(\"Total refund is : \", refund,\"$\")\n"
      ],
      "metadata": {
        "colab": {
          "base_uri": "https://localhost:8080/"
        },
        "id": "AIb501kwCykq",
        "outputId": "e626c5ff-44b1-4a65-a8fc-b85c9b8d5aec"
      },
      "execution_count": null,
      "outputs": [
        {
          "output_type": "stream",
          "name": "stdout",
          "text": [
            "Enter the no.of bottles(less than or equal to 1 ltr): 30\n",
            "Enter the no. of bottles(more than 1 ltr): 50\n",
            "Total refund is :  15.5 $\n"
          ]
        }
      ]
    },
    {
      "cell_type": "markdown",
      "source": [
        "6)The program that you create for this exercise will begin by reading the cost of a meal\n",
        "ordered at a restaurant from the user. Then your program will compute the tax and\n",
        "tip for the meal. Use your local tax rate when computing the amount of tax owing.\n",
        "Compute the tip as 18 percent of the meal amount (without the tax). The output from\n",
        "your program should include the tax amount, the tip amount, and the grand total for\n",
        "the meal including both the tax and the tip. Format the output so that all of the values\n",
        "are displayed using two decimal places."
      ],
      "metadata": {
        "id": "oG1h7wJQEm2U"
      }
    },
    {
      "cell_type": "code",
      "source": [
        "Bill = int(input(\"Bill Amount: \"))\n",
        "tax = Bill*18/100\n",
        "tip = Bill*20/100\n",
        "print(\"Total bill is : \", Bill, \"rs\")\n",
        "print(\"Tax amount is : \", tax, \"rs\")\n",
        "print(\"tip amount is : \", tip, \"rs\")\n",
        "print(\"Total Amount to be paid : \", Bill+tip+tax, \"rs\")\n"
      ],
      "metadata": {
        "colab": {
          "base_uri": "https://localhost:8080/"
        },
        "id": "Lt9dt0L5ErYv",
        "outputId": "d7d92ca7-ba9c-4d13-d155-c6fd8458fa5b"
      },
      "execution_count": null,
      "outputs": [
        {
          "output_type": "stream",
          "name": "stdout",
          "text": [
            "Bill Amount: 90000\n",
            "Total bill is :  90000 rs\n",
            "Tax amount is :  16200.0 rs\n",
            "tip amount is :  18000.0 rs\n",
            "Total Amount to be paid :  124200.0 rs\n"
          ]
        }
      ]
    },
    {
      "cell_type": "markdown",
      "source": [
        "7)Write a program that reads a positive integer, n, from the user and then displays the\n",
        "sum of all of the integers from 1 to n. The sum of the first n positive integers can be\n",
        "computed using the formula:\n",
        "sum = (n)(n + 1)/2"
      ],
      "metadata": {
        "id": "KEn6CHuAG56C"
      }
    },
    {
      "cell_type": "code",
      "source": [
        "n = int(input(\"Enter the number: \"))\n",
        "sum_of_first_n_numbers = n*(n+1)/2\n",
        "print(\"The Sum of first n natural numbers are: \", sum_of_first_n_numbers)"
      ],
      "metadata": {
        "colab": {
          "base_uri": "https://localhost:8080/"
        },
        "id": "tUi30XuhG_YZ",
        "outputId": "72b06a0e-fbf1-447a-b256-1e32ac52c8fc"
      },
      "execution_count": null,
      "outputs": [
        {
          "output_type": "stream",
          "name": "stdout",
          "text": [
            "Enter the number: 5\n",
            "The Sum of first n natural numbers are:  15.0\n"
          ]
        }
      ]
    },
    {
      "cell_type": "markdown",
      "source": [
        "8)An online retailer sells two products: widgets and gizmos. Each widget weighs 75\n",
        "grams. Each gizmo weighs 112 grams. Write a program that reads the number of\n",
        "widgets and the number of gizmos in an order from the user. Then your program\n",
        "should compute and display the total weight of the order."
      ],
      "metadata": {
        "id": "B2OXkP12IBen"
      }
    },
    {
      "cell_type": "code",
      "source": [
        "widget = float(input(\"Widgets: \"))\n",
        "gizmo = float(input(\"Gizmo: \"))\n",
        "weight_of_widget = widget*75\n",
        "weight_of_gizmo = gizmo*112\n",
        "total_weight = weight_of_widget + weight_of_gizmo\n",
        "print(\"The total weight=\", total_weight)"
      ],
      "metadata": {
        "colab": {
          "base_uri": "https://localhost:8080/"
        },
        "id": "eyIz8E7nIEVM",
        "outputId": "73265155-38f5-41c2-ac40-937c9e1805a9"
      },
      "execution_count": null,
      "outputs": [
        {
          "output_type": "stream",
          "name": "stdout",
          "text": [
            "Widgets: 10\n",
            "Gizmo: 20\n",
            "The total weight= 2990.0\n"
          ]
        }
      ]
    }
  ]
}