{
  "cells": [
    {
      "cell_type": "markdown",
      "metadata": {
        "id": "view-in-github",
        "colab_type": "text"
      },
      "source": [
        "<a href=\"https://colab.research.google.com/github/sree853/PYTHON3/blob/main/Programming_Constructs.ipynb\" target=\"_parent\"><img src=\"https://colab.research.google.com/assets/colab-badge.svg\" alt=\"Open In Colab\"/></a>"
      ]
    },
    {
      "cell_type": "markdown",
      "metadata": {
        "id": "vXR60q7ERpya"
      },
      "source": [
        "1. Write a Python program that asks the user for their age and prints \"You are an adult\" if the age is 18 or older; otherwise, it prints \"You are a minor'.\n"
      ]
    },
    {
      "cell_type": "code",
      "execution_count": null,
      "metadata": {
        "colab": {
          "base_uri": "https://localhost:8080/"
        },
        "id": "1L7LsxPKRs7L",
        "outputId": "db9556e3-25a5-4e78-d657-164adc67ed94"
      },
      "outputs": [
        {
          "name": "stdout",
          "output_type": "stream",
          "text": [
            "enter the age: 15\n",
            "you are minor\n"
          ]
        }
      ],
      "source": [
        "age=int(input(\"enter the age: \"))\n",
        "if age>=18:\n",
        "  print(\"You are an adult\")\n",
        "else:\n",
        "  print(\"you are minor\")"
      ]
    },
    {
      "cell_type": "markdown",
      "metadata": {
        "id": "jQCqvP-3SNgs"
      },
      "source": [
        "2. Write a program that takes a numerical grade (out of 100) as input and prints the corresponding letter grade according to the following scale:\n",
        " 90-100: A\n",
        " 80-89: B\n",
        " 70-79: C\n",
        " 60-69: D\n",
        " Below 60: F\n"
      ]
    },
    {
      "cell_type": "code",
      "execution_count": null,
      "metadata": {
        "colab": {
          "base_uri": "https://localhost:8080/"
        },
        "id": "V3mGgnGfSguP",
        "outputId": "4a0070c9-b85d-4d2f-f065-e9b5178a285a"
      },
      "outputs": [
        {
          "name": "stdout",
          "output_type": "stream",
          "text": [
            "enter the garde: 98\n",
            "A\n"
          ]
        }
      ],
      "source": [
        "g=int(input(\"enter the garde: \"))\n",
        "if 90<=g<=100:\n",
        "  print(\"A\")\n",
        "elif 80<=g<=89:\n",
        "  print(\"B\")\n",
        "elif 70<=g<=79:\n",
        "  print(\"C\")\n",
        "elif 60<=g<=69:\n",
        "  print(\"D\")\n",
        "elif g<60:\n",
        "  print(\"F\")"
      ]
    },
    {
      "cell_type": "markdown",
      "metadata": {
        "id": "rGzjB23qUV4i"
      },
      "source": [
        "3. Write a program that calculates the body mass index (BMI) of a person. The user should input their weight in kilograms and height in meters. The program should then print whether the person is underweight, normal weight, overweight, or obese\n"
      ]
    },
    {
      "cell_type": "code",
      "execution_count": null,
      "metadata": {
        "colab": {
          "base_uri": "https://localhost:8080/"
        },
        "id": "d_OspzcMUkhV",
        "outputId": "5c9ed0d9-4f8b-4bcb-910d-bb10f25f1b66"
      },
      "outputs": [
        {
          "name": "stdout",
          "output_type": "stream",
          "text": [
            "enter the weight of a person in kg:56.4\n",
            "enter the height of a person in meters:6.7\n",
            "under weight\n"
          ]
        }
      ],
      "source": [
        "w=float(input(\"enter the weight of a person in kg:\"))\n",
        "h=float(input(\"enter the height of a person in meters:\"))\n",
        "BMI=w/h\n",
        "if BMI<=18.4:\n",
        "  print(\"under weight\")\n",
        "elif 18.5<=BMI<=24.9:\n",
        "  print(\"Normal\")\n",
        "elif 25.0<=BMI<=39.9:\n",
        "  print(\"Over weight\")\n",
        "elif BMI>=40.0:\n",
        "  print(\"Obese\")\n"
      ]
    },
    {
      "cell_type": "markdown",
      "metadata": {
        "id": "vayh_JlnYgk1"
      },
      "source": [
        "4. Write a program that asks the user for three numbers and prints the maximum of the three"
      ]
    },
    {
      "cell_type": "code",
      "execution_count": null,
      "metadata": {
        "colab": {
          "base_uri": "https://localhost:8080/"
        },
        "id": "bzFQSc8CYrYu",
        "outputId": "150f79a7-4a7c-477a-f75f-1dea1757ce07"
      },
      "outputs": [
        {
          "name": "stdout",
          "output_type": "stream",
          "text": [
            "enter a number:4\n",
            "enter a number:5\n",
            "enter a number:6\n",
            "6\n"
          ]
        }
      ],
      "source": [
        "a=int(input(\"enter a number:\"))\n",
        "b=int(input(\"enter a number:\"))\n",
        "c=int(input(\"enter a number:\"))\n",
        "print(max(a,b,c))\n"
      ]
    },
    {
      "cell_type": "markdown",
      "metadata": {
        "id": "ahscOw41bxdL"
      },
      "source": [
        "5. Write a program that asks the user for a temperature (in Celsius) and prints \"It's freezing\" if the temperature is below 0, \"It's cool\" if it's between 0 and 10, \"It's warm\" if it's between 10 and 20, and \"It's hot\" if it's above 20\n"
      ]
    },
    {
      "cell_type": "code",
      "execution_count": null,
      "metadata": {
        "colab": {
          "base_uri": "https://localhost:8080/"
        },
        "id": "uECmzjLPb57z",
        "outputId": "5753e23a-89ec-4f72-e9b6-bf14c19b1fd3"
      },
      "outputs": [
        {
          "name": "stdout",
          "output_type": "stream",
          "text": [
            "enter the temp in celsius:34\n",
            "its hot\n"
          ]
        }
      ],
      "source": [
        "t=int(input(\"enter the temp in celsius:\"))\n",
        "if t<0:\n",
        "  print(\"it's freezing\")\n",
        "elif 0<=t<=10:\n",
        "  print(\"its cool\")\n",
        "elif 10<=t<=20:\n",
        "  print(\"its warm\")\n",
        "elif t>20:\n",
        "  print(\"its hot\")\n"
      ]
    },
    {
      "cell_type": "markdown",
      "metadata": {
        "id": "xOuQcc6OeOT6"
      },
      "source": [
        "6. Write a program that asks the user for a number (1-7) and prints the corresponding day of the week.\n"
      ]
    },
    {
      "cell_type": "code",
      "execution_count": null,
      "metadata": {
        "colab": {
          "base_uri": "https://localhost:8080/"
        },
        "id": "K5DAv1mifGGo",
        "outputId": "46ed7a56-5f8e-4f1e-8eee-862ae67c8305"
      },
      "outputs": [
        {
          "name": "stdout",
          "output_type": "stream",
          "text": [
            "enter a number:6\n",
            "saturday\n"
          ]
        }
      ],
      "source": [
        "d=int(input(\"enter a number:\"))\n",
        "if d==1:\n",
        "  print(\"monday\")\n",
        "elif d==2:\n",
        "  print(\"tuesday\")\n",
        "elif d==3:\n",
        "  print(\"wednesday\")\n",
        "elif d==4:\n",
        "  print(\"thrusday\")\n",
        "elif d==5:\n",
        "  print(\"friday\")\n",
        "elif d==6:\n",
        "  print(\"saturday\")\n",
        "elif d==7:\n",
        "  print(\"sunday\")\n"
      ]
    },
    {
      "cell_type": "markdown",
      "metadata": {
        "id": "sYHQYvrDgFXm"
      },
      "source": [
        "7. Write a program that asks the user for a number and prints \"In range\" if the number is between 10 and 20 (inclusive), and \"Out of range\" otherwise..\n"
      ]
    },
    {
      "cell_type": "code",
      "execution_count": null,
      "metadata": {
        "colab": {
          "base_uri": "https://localhost:8080/"
        },
        "id": "wQX3_OmBgRob",
        "outputId": "d576fc38-b424-47ab-e3e5-356912f28f24"
      },
      "outputs": [
        {
          "name": "stdout",
          "output_type": "stream",
          "text": [
            "enter a number:21\n",
            "out of range\n"
          ]
        }
      ],
      "source": [
        "n=int(input(\"enter a number:\"))\n",
        "if 10<=n<=20:\n",
        "  print(\"In range\")\n",
        "else:\n",
        "  print(\"out of range\")"
      ]
    },
    {
      "cell_type": "markdown",
      "metadata": {
        "id": "-ZqrpZz7gs8e"
      },
      "source": [
        "8. Write a Python program to add 'ing' at the end of a given string (string length should be equal to or more than 3). If the given string already ends with 'ing' then add 'ly' instead.If the string length of the given string is less than 3, leave it unchanged\n"
      ]
    },
    {
      "cell_type": "code",
      "execution_count": null,
      "metadata": {
        "colab": {
          "base_uri": "https://localhost:8080/"
        },
        "id": "R-P6rkTfgGOy",
        "outputId": "767d5b96-248c-4058-f15e-ac9335f16133"
      },
      "outputs": [
        {
          "name": "stdout",
          "output_type": "stream",
          "text": [
            "enter a string:saving\n",
            "savingly\n"
          ]
        }
      ],
      "source": [
        "n=input(\"enter a string:\")\n",
        "if len(n)<=3:\n",
        "  print(n)\n",
        "elif n.endswith(\"ing\"):\n",
        "  print(n+\"ly\")\n",
        "else:\n",
        "  print(n+\"ing\")"
      ]
    },
    {
      "cell_type": "markdown",
      "metadata": {
        "id": "_zsrTo2vhZJ5"
      },
      "source": [
        "9. Create rock-paper-scissors by using the if condition.\n"
      ]
    },
    {
      "cell_type": "code",
      "execution_count": null,
      "metadata": {
        "colab": {
          "base_uri": "https://localhost:8080/"
        },
        "id": "f4MMtObohhsW",
        "outputId": "f6e7fe9f-2d6d-4381-b060-f17665c400cd"
      },
      "outputs": [
        {
          "name": "stdout",
          "output_type": "stream",
          "text": [
            "enter a choice:paper\n",
            "enter a choice:rock\n",
            "p1 wins\n"
          ]
        }
      ],
      "source": [
        "p1=input(\"enter a choice:\")\n",
        "p2=input(\"enter a choice:\")\n",
        "if p1==p2:\n",
        "  print(\"tie\")\n",
        "if p1==\"rock\" and p2==\"scissor\":\n",
        "  print(\"p1 wins\")\n",
        "elif p1==\"paper\" and p2==\"rock\":\n",
        "  print(\"p1 wins\")\n",
        "elif p1==\"scissor\" and p2==\"rock\" :\n",
        "  print(\"p2 wins\")\n",
        "\n"
      ]
    },
    {
      "cell_type": "markdown",
      "metadata": {
        "id": "KwJWTT4AmZIk"
      },
      "source": [
        "10. Manoj Kumar has family and friends. Help him remind them who is who. Given a string with a name, return the relation of that person to Manoj Kumar.,\n",
        " Person Relation,\n",
        " Shiva father ,Letha mother, Tarun brother,Kavitha sister ,,Stranger.\n"
      ]
    },
    {
      "cell_type": "code",
      "execution_count": null,
      "metadata": {
        "colab": {
          "base_uri": "https://localhost:8080/"
        },
        "id": "0BFX3sS3m1KI",
        "outputId": "ba76d217-4219-41e8-b316-04444c989434"
      },
      "outputs": [
        {
          "name": "stdout",
          "output_type": "stream",
          "text": [
            "enter a string: Tarun\n",
            "brother\n"
          ]
        }
      ],
      "source": [
        "s=str(input(\"enter a string: \"))\n",
        "if s==\"Shiva\":\n",
        "  print(\"Father\")\n",
        "elif s==\"Letha\":\n",
        "  print(\"mother\")\n",
        "elif s==\"Tarun\":\n",
        "  print(\"brother\")\n",
        "elif s==\"Kavitha\":\n",
        "  print(\"sister\")\n",
        "else:\n",
        "  print(\"stranger\")\n"
      ]
    },
    {
      "cell_type": "markdown",
      "metadata": {
        "id": "ijdCXfo3off4"
      },
      "source": [
        "11. Write a python program that takes in a word and determines whether or not it is plural. A plural word is one that ends with “s”\n"
      ]
    },
    {
      "cell_type": "code",
      "execution_count": null,
      "metadata": {
        "colab": {
          "base_uri": "https://localhost:8080/"
        },
        "id": "mI7P5Xqgot8m",
        "outputId": "458d4ff3-4ab3-49ab-da4c-6e0445922ea1"
      },
      "outputs": [
        {
          "name": "stdout",
          "output_type": "stream",
          "text": [
            "enter a word: string\n",
            "it is not plural \n"
          ]
        }
      ],
      "source": [
        "n=str(input(\"enter a word: \"))\n",
        "if n.endswith('s'):\n",
        "  print(\"it is plural\")\n",
        "else:\n",
        "  print(\"it is not plural \")"
      ]
    },
    {
      "cell_type": "markdown",
      "metadata": {
        "id": "RfWyg5Erpb6H"
      },
      "source": [
        "12. A company decided to give a bonus of 5% to employees if his/her year of service is more than 5 years.Ask user for their salary and year of service and print the net bonus amount.\n"
      ]
    },
    {
      "cell_type": "code",
      "execution_count": null,
      "metadata": {
        "colab": {
          "base_uri": "https://localhost:8080/"
        },
        "id": "jmH1qFc3ppA-",
        "outputId": "510b0348-c852-4403-9c63-2b899992002c"
      },
      "outputs": [
        {
          "name": "stdout",
          "output_type": "stream",
          "text": [
            "enter the salary: 25000\n",
            "enter year of service: 6\n",
            "1250.0\n"
          ]
        }
      ],
      "source": [
        "a=int(input(\"enter the salary: \"))\n",
        "b=int(input(\"enter year of service: \"))\n",
        "n=a*5/100\n",
        "if b>5:\n",
        "  print(n)\n",
        "  n=a*5/100\n",
        "else:\n",
        "  print(\"no bonous\")"
      ]
    },
    {
      "cell_type": "markdown",
      "metadata": {
        "id": "BIT65fAAsuAQ"
      },
      "source": [
        "13. Take values of length and breadth of a rectangle from the user and check if it is square or not.\n"
      ]
    },
    {
      "cell_type": "code",
      "execution_count": null,
      "metadata": {
        "colab": {
          "base_uri": "https://localhost:8080/"
        },
        "id": "AZbHJgixs4Ca",
        "outputId": "972b2547-5935-465d-a7d4-976ecbb8ab10"
      },
      "outputs": [
        {
          "name": "stdout",
          "output_type": "stream",
          "text": [
            "enter a length of rectangle: 6\n",
            "enter a breadth of rectangle: 6\n",
            "it is a square\n"
          ]
        }
      ],
      "source": [
        "l=int(input(\"enter a length of rectangle: \"))\n",
        "b=int(input(\"enter a breadth of rectangle: \"))\n",
        "if l==b:\n",
        "  print(\"it is a square\")\n",
        "else:\n",
        "  print(\"it is not a square\")\n"
      ]
    },
    {
      "cell_type": "markdown",
      "metadata": {
        "id": "rIVHDXDQtzr3"
      },
      "source": [
        "14. Write a program to check whether a person is eligible for voting or not  (voting age>=18).\n"
      ]
    },
    {
      "cell_type": "code",
      "execution_count": null,
      "metadata": {
        "colab": {
          "base_uri": "https://localhost:8080/"
        },
        "id": "ZicmVqW5t8Fx",
        "outputId": "3e6adb9c-d2d0-4495-e666-da49a272ad81"
      },
      "outputs": [
        {
          "name": "stdout",
          "output_type": "stream",
          "text": [
            "enter a age: 22\n",
            "person is eligible for voting\n"
          ]
        }
      ],
      "source": [
        "age=int(input(\"enter a age: \"))\n",
        "if age>=18:\n",
        "  print(\"person is eligible for voting\")\n",
        "else:\n",
        "  print(\"person not eligible for voting\")"
      ]
    },
    {
      "cell_type": "markdown",
      "metadata": {
        "id": "_oJ51KitujTC"
      },
      "source": [
        "15. Accept three sides of the triangle and check whether the triangle is possible or not.(Triangle is possible only when the sum of any two sides is greater than 3 rd side)."
      ]
    },
    {
      "cell_type": "code",
      "execution_count": null,
      "metadata": {
        "colab": {
          "base_uri": "https://localhost:8080/"
        },
        "id": "mMdyqAg1uyYm",
        "outputId": "2c6cecff-483b-42ea-ae2a-31d253713bc6"
      },
      "outputs": [
        {
          "name": "stdout",
          "output_type": "stream",
          "text": [
            "enter the side:12\n",
            "enter the side:4\n",
            "enter the side:6\n",
            "it is a triangle: \n"
          ]
        }
      ],
      "source": [
        "s1=int(input(\"enter the side:\"))\n",
        "s2=int(input(\"enter the side:\"))\n",
        "s3=int(input(\"enter the side:\"))\n",
        "if s1+s2>s3 or s1+s3>s2 or s2+s3>s1:\n",
        "  print(\"it is a triangle: \")\n",
        "else :\n",
        "  print(\"not a triangle: \")"
      ]
    },
    {
      "cell_type": "markdown",
      "metadata": {
        "id": "rU-HS6ROxLyn"
      },
      "source": [
        "16. Write a Python program that prints all the numbers from  0 to 6 except 3 and 6.\n"
      ]
    },
    {
      "cell_type": "code",
      "execution_count": null,
      "metadata": {
        "colab": {
          "base_uri": "https://localhost:8080/"
        },
        "id": "wJw2zxM4xbpg",
        "outputId": "99586801-e6cd-4a81-f948-352cd0d9b289"
      },
      "outputs": [
        {
          "name": "stdout",
          "output_type": "stream",
          "text": [
            "0\n",
            "1\n",
            "2\n",
            "4\n",
            "5\n"
          ]
        }
      ],
      "source": [
        "for i in range(0,6):\n",
        "   if i!=3:\n",
        "    print(i)"
      ]
    },
    {
      "cell_type": "markdown",
      "metadata": {
        "id": "SL5gYZduzIl3"
      },
      "source": [
        "17. Write a program to accept a number from a user and  calculate the sum of all numbers from 1 to a given number.\n"
      ]
    },
    {
      "cell_type": "code",
      "execution_count": null,
      "metadata": {
        "id": "vEmwh_a9zSMZ",
        "colab": {
          "base_uri": "https://localhost:8080/"
        },
        "outputId": "536ca9e8-1e86-4322-9061-a19efa32d12b"
      },
      "outputs": [
        {
          "output_type": "stream",
          "name": "stdout",
          "text": [
            "enter a number :34\n",
            "595\n"
          ]
        }
      ],
      "source": [
        "del int\n",
        "n = int(input(\"enter a number :\"))\n",
        "c = 0\n",
        "for i in range(1,n+1):\n",
        "  c=c+i\n",
        "print(c)\n",
        "\n"
      ]
    },
    {
      "cell_type": "markdown",
      "metadata": {
        "id": "8YYVAS3B4VBY"
      },
      "source": [
        "18. write a program to convert only odd indexed characters to lowercase.\n"
      ]
    },
    {
      "cell_type": "code",
      "execution_count": null,
      "metadata": {
        "colab": {
          "base_uri": "https://localhost:8080/"
        },
        "id": "bJ41KghD4lmB",
        "outputId": "3bda0227-63ca-496f-8d48-e48e42106317"
      },
      "outputs": [
        {
          "name": "stdout",
          "output_type": "stream",
          "text": [
            "enter a stringHELLO\n",
            "H\n",
            "e\n",
            "L\n",
            "l\n",
            "O\n"
          ]
        }
      ],
      "source": [
        "s=str(input(\"enter a string\"))\n",
        "for i in range(len(s)):\n",
        "   if i%2!=0:\n",
        "     print(s[i].lower())\n",
        "   else:\n",
        "     print(s[i])\n"
      ]
    },
    {
      "cell_type": "markdown",
      "metadata": {
        "id": "LEEjuQkF8GuN"
      },
      "source": [
        "19. Write a python program which will print the sum of the two numbers if the two numbers are even or it will print the difference of two numbers.\n"
      ]
    },
    {
      "cell_type": "code",
      "execution_count": null,
      "metadata": {
        "colab": {
          "base_uri": "https://localhost:8080/"
        },
        "id": "RIyiZTGj8iaS",
        "outputId": "012a87f9-e2eb-4d86-af9e-4a355a68c108"
      },
      "outputs": [
        {
          "name": "stdout",
          "output_type": "stream",
          "text": [
            "30\n"
          ]
        }
      ],
      "source": [
        "a=10\n",
        "b=20\n",
        "if a%2==0 or b%2==0:\n",
        "  print(a+b)\n",
        "else:\n",
        "  print(a-b)"
      ]
    },
    {
      "cell_type": "markdown",
      "metadata": {
        "id": "jVwMwlJi-Pvs"
      },
      "source": [
        "20. Write a program to print a multiplication table of a given  number."
      ]
    },
    {
      "cell_type": "code",
      "execution_count": null,
      "metadata": {
        "colab": {
          "base_uri": "https://localhost:8080/"
        },
        "id": "2z4PGJeO-V8o",
        "outputId": "6df48afa-a33c-41f5-b286-b8aeaef93d1a"
      },
      "outputs": [
        {
          "name": "stdout",
          "output_type": "stream",
          "text": [
            "2\n",
            "4\n",
            "6\n",
            "8\n",
            "10\n",
            "12\n",
            "14\n",
            "16\n",
            "18\n",
            "20\n"
          ]
        }
      ],
      "source": [
        "for i in range(1,11):\n",
        "  print(2*i)"
      ]
    },
    {
      "cell_type": "markdown",
      "metadata": {
        "id": "yzKcr2X7-_2h"
      },
      "source": [
        "21. Write a program to count the total number of digits in a  number."
      ]
    },
    {
      "cell_type": "code",
      "execution_count": null,
      "metadata": {
        "colab": {
          "base_uri": "https://localhost:8080/"
        },
        "id": "TxT1BJ3-_JkF",
        "outputId": "ec0a930a-c756-481e-829f-6f7c7a73de2d"
      },
      "outputs": [
        {
          "output_type": "stream",
          "name": "stdout",
          "text": [
            "enter a digit:4567\n",
            "4\n"
          ]
        }
      ],
      "source": [
        "n=int(input(\"enter a digit:\"))\n",
        "i=0\n",
        "while i<n:\n",
        "  n=n//10\n",
        "  i=i+1\n",
        "print(i)"
      ]
    },
    {
      "cell_type": "markdown",
      "metadata": {
        "id": "qMKuJNFbBcU5"
      },
      "source": [
        "22. Write a program to count the total number of digits in a  number.\n",
        "a. For example the number is 75869 so the output should be 5.for  abcdef5678 the  output should be 4.\n"
      ]
    },
    {
      "cell_type": "code",
      "execution_count": null,
      "metadata": {
        "colab": {
          "base_uri": "https://localhost:8080/"
        },
        "id": "G-9AEsrJB134",
        "outputId": "e3eb5e07-6199-4e25-bc1d-f583bc537cf1"
      },
      "outputs": [
        {
          "output_type": "stream",
          "name": "stdout",
          "text": [
            "enter a digit: 5678\n",
            "4\n"
          ]
        }
      ],
      "source": [
        "n=input(\"enter a digit: \")\n",
        "i=0\n",
        "for j in n:\n",
        "  i=i+1\n",
        "print(i)\n",
        "\n"
      ]
    },
    {
      "cell_type": "markdown",
      "metadata": {
        "id": "u9YYwWsaHm81"
      },
      "source": [
        "23. Write a Python program which iterates the integers from 1 to 60. For multiples of three print \"Fizz\" instead of the number and for the multiples of five print \"Buzz”.\n"
      ]
    },
    {
      "cell_type": "code",
      "execution_count": null,
      "metadata": {
        "colab": {
          "base_uri": "https://localhost:8080/"
        },
        "id": "n9FVqZRoHvdF",
        "outputId": "2e682622-4656-4a64-f060-4d2c1d3290b4",
        "collapsed": true
      },
      "outputs": [
        {
          "name": "stdout",
          "output_type": "stream",
          "text": [
            "1\n",
            "2\n",
            "fizz\n",
            "4\n",
            "buzz\n",
            "fizz\n",
            "7\n",
            "8\n",
            "fizz\n",
            "buzz\n",
            "11\n",
            "fizz\n",
            "13\n",
            "14\n",
            "fizz\n",
            "16\n",
            "17\n",
            "fizz\n",
            "19\n",
            "buzz\n",
            "fizz\n",
            "22\n",
            "23\n",
            "fizz\n",
            "buzz\n",
            "26\n",
            "fizz\n",
            "28\n",
            "29\n",
            "fizz\n",
            "31\n",
            "32\n",
            "fizz\n",
            "34\n",
            "buzz\n",
            "fizz\n",
            "37\n",
            "38\n",
            "fizz\n",
            "buzz\n",
            "41\n",
            "fizz\n",
            "43\n",
            "44\n",
            "fizz\n",
            "46\n",
            "47\n",
            "fizz\n",
            "49\n",
            "buzz\n",
            "fizz\n",
            "52\n",
            "53\n",
            "fizz\n",
            "buzz\n",
            "56\n",
            "fizz\n",
            "58\n",
            "59\n",
            "fizz\n"
          ]
        }
      ],
      "source": [
        "for i in range (1,61):\n",
        "  if i%3==0:\n",
        "    print(\"fizz\")\n",
        "  elif i%5==0:\n",
        "    print(\"buzz\")\n",
        "  else:\n",
        "    print(i)"
      ]
    },
    {
      "cell_type": "markdown",
      "metadata": {
        "id": "0WcZWo2AJXXZ"
      },
      "source": [
        "24. Write a Python program that accepts a string and calculates the number of digits and letters.\n"
      ]
    },
    {
      "cell_type": "code",
      "execution_count": null,
      "metadata": {
        "colab": {
          "base_uri": "https://localhost:8080/"
        },
        "id": "m6K3XJYnJgKv",
        "outputId": "3fa2575e-b930-4f97-8e3f-96a217514622"
      },
      "outputs": [
        {
          "output_type": "stream",
          "name": "stdout",
          "text": [
            "enter a string: sanjivini123\n",
            "number of digits: 3\n",
            "number of letters: 9\n"
          ]
        }
      ],
      "source": [
        "n=input(\"enter a string: \")\n",
        "d=0\n",
        "l=0\n",
        "for i in n:\n",
        "  if i.isdigit():\n",
        "    d=d+1\n",
        "  elif i.isalpha():\n",
        "    l=l+1\n",
        "print(\"number of digits:\",d)\n",
        "print(\"number of letters:\",l)\n"
      ]
    },
    {
      "cell_type": "markdown",
      "metadata": {
        "id": "viVQhVNWKAcK"
      },
      "source": [
        "25. Write a Python program to check the validity of password input by users.Validation:\\n\",\n",
        " a. At least 1 letter between [a-z] and 1 letter between [A-Z].,\n",
        " b. At least 1 number between [0-9].,\n",
        " c. At least 1 character from [$#@].,\n",
        " d. Minimum length 6 characters.,Maximum length 16 characters.\n"
      ]
    },
    {
      "cell_type": "code",
      "execution_count": null,
      "metadata": {
        "id": "RLJLH1inKK43",
        "colab": {
          "base_uri": "https://localhost:8080/"
        },
        "outputId": "1fb0bd74-b980-4ea6-e764-bff104499bff"
      },
      "outputs": [
        {
          "output_type": "stream",
          "name": "stdout",
          "text": [
            "enter the validity of password: san@12345\n",
            "invalid password\n"
          ]
        }
      ],
      "source": [
        "s=(input(\"enter the validity of password: \"))\n",
        "has_lower = False\n",
        "has_upper = False\n",
        "has_digit=False\n",
        "has_special = False\n",
        "if len(s)<6 or len(s)>16:\n",
        "    print(\"password should be between 6 to 16 charcter\")\n",
        "else:\n",
        "  for char in s:\n",
        "     if char.islower():\n",
        "        has_lower=True\n",
        "     elif char.isupper():\n",
        "        has_upper=True\n",
        "     elif char.isdigit():\n",
        "        has_digit=True\n",
        "     elif char in \"#@$\":\n",
        "        has_special=True\n",
        "  if has_lower and has_upper and has_digit and has_special:\n",
        "       print(\"it is valid password\")\n",
        "  else:\n",
        "       print(\"invalid password\")\n",
        "\n"
      ]
    },
    {
      "cell_type": "markdown",
      "metadata": {
        "id": "UQVvPHAcLU_x"
      },
      "source": [
        " 26. Write a program in Python to reverse a word by using while loop,for loop.\n"
      ]
    },
    {
      "cell_type": "code",
      "execution_count": null,
      "metadata": {
        "colab": {
          "base_uri": "https://localhost:8080/"
        },
        "id": "zqBiZGxgLYBu",
        "outputId": "6c47729f-0cd3-40f9-eee0-c94fef65a12f"
      },
      "outputs": [
        {
          "name": "stdout",
          "output_type": "stream",
          "text": [
            "enter a string: hello\n",
            "o\n",
            "l\n",
            "l\n",
            "e\n",
            "h\n",
            "enter a string: hello\n",
            "o\n",
            "l\n",
            "l\n",
            "e\n",
            "h\n"
          ]
        }
      ],
      "source": [
        "#while loop\n",
        "s=str(input(\"enter a string: \"))\n",
        "i=1\n",
        "while i<=len(s):\n",
        "  print(s[-i])\n",
        "  i=i+1\n",
        "\n",
        "#for loop\n",
        "s=str(input(\"enter a string: \"))\n",
        "for i in range(1,len(s)+1):\n",
        "  print(s[-i])"
      ]
    },
    {
      "cell_type": "markdown",
      "metadata": {
        "id": "JLaADJIqs_4R"
      },
      "source": [
        "27. Write a program which takes 10 integers as input using loop and print their average value on the screen"
      ]
    },
    {
      "cell_type": "code",
      "execution_count": null,
      "metadata": {
        "colab": {
          "background_save": true,
          "base_uri": "https://localhost:8080/"
        },
        "id": "giQrmxEjtH4J",
        "outputId": "c7368adb-cf84-470d-9966-ce9cdb30a2df"
      },
      "outputs": [
        {
          "name": "stdout",
          "output_type": "stream",
          "text": [
            "the average of the 10 numbers : 5.3\n"
          ]
        }
      ],
      "source": [
        "numbers=[]\n",
        "for i in range(10):\n",
        "  n=float(input(\"enter a number\"+str(i+1) +\":\"))\n",
        "  numbers.append(n)\n",
        "avg=sum(numbers)  /10\n",
        "print(\"the average of the 10 numbers :\",avg)\n",
        "\n",
        "\n",
        "\n",
        "\n"
      ]
    },
    {
      "cell_type": "markdown",
      "metadata": {
        "id": "ZLLJKiIo5u8w"
      },
      "source": [
        "28. Write a program which takes integer inputs from the user until he/she presses “q” (ask to press q to quit after every integer input). Print average and product of all numbers.\n"
      ]
    },
    {
      "cell_type": "code",
      "source": [
        "n=input(\"Enter the number if you want to quit press q: \")\n",
        "i=0\n",
        "s=0\n",
        "c=0\n",
        "p=1\n",
        "while n!='q':\n",
        "  if n!='q':\n",
        "    s+=int(n)\n",
        "    c+=1\n",
        "    p*=int(n)\n",
        "  n=input(\"Enter the number if you want to quit press q: \")\n",
        "  i+=1\n",
        "print(\"The average of the numbers is \",s/c)\n",
        "print(\"The product is \",p)"
      ],
      "metadata": {
        "colab": {
          "base_uri": "https://localhost:8080/"
        },
        "id": "4-BWenOpOaYx",
        "outputId": "4ad57fe8-1781-4287-b6fb-9c319f025da2"
      },
      "execution_count": null,
      "outputs": [
        {
          "output_type": "stream",
          "name": "stdout",
          "text": [
            "Enter the number if you want to quit press q: 5\n",
            "Enter the number if you want to quit press q: 7\n",
            "Enter the number if you want to quit press q: 4\n",
            "Enter the number if you want to quit press q: 6\n",
            "Enter the number if you want to quit press q: 5\n",
            "Enter the number if you want to quit press q: q\n",
            "The average of the numbers is  5.4\n",
            "The product is  4200\n"
          ]
        }
      ]
    },
    {
      "cell_type": "markdown",
      "metadata": {
        "id": "XuPziC-4Hgat"
      },
      "source": [
        "29. Write a Python program that will remove all digits or any other characters from the string except alphabets.\n"
      ]
    },
    {
      "cell_type": "code",
      "execution_count": null,
      "metadata": {
        "colab": {
          "base_uri": "https://localhost:8080/"
        },
        "id": "lsVyZvanJVyI",
        "outputId": "bac11f1a-411f-4c1b-9d0b-18c2cdbd86a9"
      },
      "outputs": [
        {
          "name": "stdout",
          "output_type": "stream",
          "text": [
            "enter a string: san4j5i6vin9i\n",
            "strings with only alphabets sanjivini\n"
          ]
        }
      ],
      "source": [
        "a=input(\"enter a string: \")\n",
        "b=[]\n",
        "for i in a:\n",
        "  if i.isalpha():\n",
        "    b.append(i)\n",
        "c=''.join(b)\n",
        "print(\"strings with only alphabets\",c)"
      ]
    },
    {
      "cell_type": "markdown",
      "metadata": {
        "id": "_xlSNmtOK7HY"
      },
      "source": [
        "30. Write a Python program to find the sum of all even numbers from 0 to 10."
      ]
    },
    {
      "cell_type": "code",
      "execution_count": null,
      "metadata": {
        "colab": {
          "base_uri": "https://localhost:8080/"
        },
        "id": "QDGupgVNK9-A",
        "outputId": "837a6fe4-dee8-422a-9fd2-3ec649968a6b"
      },
      "outputs": [
        {
          "output_type": "stream",
          "name": "stdout",
          "text": [
            "20\n"
          ]
        }
      ],
      "source": [
        "s=0\n",
        "for i in range(0,10):\n",
        "  if i%2==0:\n",
        "     s=s+i\n",
        "     i=i=1\n",
        "print(s)\n"
      ]
    },
    {
      "cell_type": "markdown",
      "metadata": {
        "id": "pEjVvqm9-P6W"
      },
      "source": [
        "31. Write a python program which will accept a digit and print All the numbers before it till 0\n"
      ]
    },
    {
      "cell_type": "code",
      "execution_count": null,
      "metadata": {
        "colab": {
          "base_uri": "https://localhost:8080/"
        },
        "id": "08PL5m70-ZXJ",
        "outputId": "e42004a9-13b2-489b-8af9-bd3d0f3b0c64"
      },
      "outputs": [
        {
          "name": "stdout",
          "output_type": "stream",
          "text": [
            "enter a digits: 5\n",
            "5\n",
            "4\n",
            "3\n",
            "2\n",
            "1\n",
            "0\n"
          ]
        }
      ],
      "source": [
        "n=int(input(\"enter a digits: \"))\n",
        "i=0\n",
        "while i<=n:\n",
        "  print(n-i)\n",
        "  i=i+1"
      ]
    },
    {
      "cell_type": "markdown",
      "metadata": {
        "id": "TEz4L5F0Ens7"
      },
      "source": [
        "32. Create a dynamic calculator that will run continually until you press \"c.\".\n"
      ]
    },
    {
      "cell_type": "code",
      "source": [
        "n1=int(input(\"Enter a value:\"))\n",
        "n2=int(input(\"Enter a value:\"))\n",
        "ope=input(\"Enter an operation to perform: \")\n",
        "cont=input(\"Do you want to continue: \")\n",
        "cont=cont.lower()\n",
        "while cont!='n':\n",
        "  if ope=='+':\n",
        "    n=n1+n2\n",
        "    print(f\"the additon of {n1} and {n2} is {n}\")\n",
        "  elif ope=='-':\n",
        "    n=n1-n2\n",
        "    print(f\"the substraction of {n1} and {n2} is {n}\")\n",
        "  elif ope=='*':\n",
        "    n=n1*n2\n",
        "    print(f\"the multiplication of {n1} and {n2} is {n}\")\n",
        "  elif ope=='/':\n",
        "    n=n1/n2\n",
        "    print(f\"the floar division of {n1} and {n2} is {n}\")\n",
        "  elif ope=='//':\n",
        "    n=n1//n2\n",
        "    print(f\"the integer division of {n1} and {n2} is {n}\")\n",
        "  elif ope=='%':\n",
        "    n=n1%n2\n",
        "    print(f\"the reminder of {n1} and {n2} is {n}\")\n",
        "  elif ope=='**':\n",
        "    n=n1**n2\n",
        "    print(f\"the power of {n1} and {n2} is {n}\")\n",
        "  n1=int(input(\"Enter a value:\"))\n",
        "  n2=int(input(\"Enter a value:\"))\n",
        "  ope=input(\"Enter an operation to perform: \")\n",
        "  cont=input(\"Do you want to continue y/n: \")\n",
        "  cont=cont.lower()"
      ],
      "metadata": {
        "colab": {
          "base_uri": "https://localhost:8080/"
        },
        "id": "8GjoTimFNoGX",
        "outputId": "440ddfba-5f5f-4363-b3e5-3a0db060afd9"
      },
      "execution_count": null,
      "outputs": [
        {
          "name": "stdout",
          "output_type": "stream",
          "text": [
            "Enter a value:15\n",
            "Enter a value:25\n",
            "Enter an operation to perform: +\n",
            "Do you want to continue: y\n",
            "the additon of 15 and 25 is 40\n",
            "Enter a value:35\n",
            "Enter a value:25\n",
            "Enter an operation to perform: -\n",
            "Do you want to continue y/n: n\n"
          ]
        }
      ]
    },
    {
      "cell_type": "markdown",
      "metadata": {
        "id": "mtbk-Z-jLVvQ"
      },
      "source": [
        "33. Write a python program that accepts two inputs, num1 and num2. True if one of them is 10 or if their sum is 10.\n"
      ]
    },
    {
      "cell_type": "code",
      "execution_count": null,
      "metadata": {
        "colab": {
          "base_uri": "https://localhost:8080/"
        },
        "id": "N5RuewbtMP-M",
        "outputId": "eec777cf-de7a-465f-c2a8-e7d273e1702c"
      },
      "outputs": [
        {
          "name": "stdout",
          "output_type": "stream",
          "text": [
            "enter a number: 1\n",
            "enter a number: 10\n",
            "true\n"
          ]
        }
      ],
      "source": [
        "num1=int(input(\"enter a number: \"))\n",
        "num2=int(input(\"enter a number: \"))\n",
        "if num1==10 or num2==10 or num1+num2==10:\n",
        "  print(\"true\")\n",
        "else:\n",
        "  print(\"false\")"
      ]
    },
    {
      "cell_type": "markdown",
      "metadata": {
        "id": "xe9pcamSM-WD"
      },
      "source": [
        "34. Write a python program that accepts three inputs x, y and z print True if x*y>z; otherwise, False.\n"
      ]
    },
    {
      "cell_type": "code",
      "execution_count": null,
      "metadata": {
        "colab": {
          "base_uri": "https://localhost:8080/"
        },
        "id": "OW1TjP6wNDz2",
        "outputId": "3fa837f6-d28c-4783-bda2-612dbdfd7ab4"
      },
      "outputs": [
        {
          "name": "stdout",
          "output_type": "stream",
          "text": [
            "enter a number: 3\n",
            "enter a number: 4\n",
            "enter a number: 5\n",
            "true\n"
          ]
        }
      ],
      "source": [
        "x=int(input(\"enter a number: \"))\n",
        "y=int(input(\"enter a number: \"))\n",
        "z=int(input(\"enter a number: \"))\n",
        "if x*y>z:\n",
        "  print(\"true\")\n",
        "else:\n",
        "  print(\"flase\")"
      ]
    }
  ],
  "metadata": {
    "colab": {
      "provenance": [],
      "include_colab_link": true
    },
    "kernelspec": {
      "display_name": "Python 3",
      "name": "python3"
    },
    "language_info": {
      "name": "python"
    }
  },
  "nbformat": 4,
  "nbformat_minor": 0
}